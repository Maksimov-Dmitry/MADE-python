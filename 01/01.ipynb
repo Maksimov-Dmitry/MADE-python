{
 "cells": [
  {
   "cell_type": "code",
   "execution_count": 1,
   "id": "ffa0a0ba",
   "metadata": {},
   "outputs": [],
   "source": [
    "from math import sqrt"
   ]
  },
  {
   "cell_type": "code",
   "execution_count": 2,
   "id": "3f5c703d",
   "metadata": {},
   "outputs": [
    {
     "name": "stdout",
     "output_type": "stream",
     "text": [
      "All tests passed\n"
     ]
    }
   ],
   "source": [
    "def get_roots_of_quadratic_equation(a, b, c):\n",
    "    if a == 0:\n",
    "        return None\n",
    "    D = b**2 - 4*a*c\n",
    "    if D < 0:\n",
    "        return None\n",
    "    x1 = (-b + sqrt(D)) / (2*a)\n",
    "    x2 = (-b - sqrt(D)) / (2*a)\n",
    "    return x1, x2\n",
    "\n",
    "assert (1, -3) == get_roots_of_quadratic_equation(1, 2, -3)\n",
    "assert (1, -5/2) == get_roots_of_quadratic_equation(2, 3, -5)\n",
    "assert (5/2, -1) == get_roots_of_quadratic_equation(2, -3, -5)\n",
    "assert (1, 1) == get_roots_of_quadratic_equation(1, -2, 1)\n",
    "assert (4, 3) == get_roots_of_quadratic_equation(1, -7, 12)\n",
    "assert (10.39, -0.39) == tuple(round(x, 2) for x in get_roots_of_quadratic_equation(3, -30, -12))\n",
    "assert (10.39, -0.39) == tuple(round(x, 2) for x in get_roots_of_quadratic_equation(0.3, -3, -1.2))\n",
    "assert (2, -2) == get_roots_of_quadratic_equation(2, 0, -8)\n",
    "assert (3/2, 0) == get_roots_of_quadratic_equation(2, -3, 0)\n",
    "assert (0, 0) == get_roots_of_quadratic_equation(2, 0, 0)\n",
    "assert None == get_roots_of_quadratic_equation(0, 2, 3) #not quadratic equation\n",
    "assert None == get_roots_of_quadratic_equation(1, -6, 13)\n",
    "\n",
    "print('All tests passed')"
   ]
  },
  {
   "cell_type": "code",
   "execution_count": 3,
   "id": "849b5ae5",
   "metadata": {},
   "outputs": [
    {
     "name": "stdout",
     "output_type": "stream",
     "text": [
      "All tests passed\n"
     ]
    }
   ],
   "source": [
    "def split_into_even_and_odd(array):\n",
    "    evens = []\n",
    "    odds = []\n",
    "    for number in array:\n",
    "        if isinstance(number, int):\n",
    "            if number % 2 == 0:\n",
    "                evens.append(number)\n",
    "            else:\n",
    "                odds.append(number)\n",
    "        if isinstance(number, float):\n",
    "            if int(number) == number:\n",
    "                if int(number) % 2 == 0:\n",
    "                    evens.append(number)\n",
    "                else:\n",
    "                    odds.append(number)\n",
    "    return evens, odds\n",
    "\n",
    "assert ([-2, 4, 0], [1, 3]) == split_into_even_and_odd([1, -2, 4, 3, 0])\n",
    "assert ([-2., 4.], [1., 3.]) == split_into_even_and_odd([1., -2., 4., 3.])\n",
    "assert ([2.], [1, 3.]) == split_into_even_and_odd([1, 2., 4.1, 3.])\n",
    "assert ([2, 4], []) == split_into_even_and_odd([2, 4])\n",
    "assert ([], [1, 3]) == split_into_even_and_odd([1, 3])\n",
    "assert ([], []) == split_into_even_and_odd([])\n",
    "\n",
    "print('All tests passed')"
   ]
  }
 ],
 "metadata": {
  "kernelspec": {
   "display_name": "Python 3 (ipykernel)",
   "language": "python",
   "name": "python3"
  },
  "language_info": {
   "codemirror_mode": {
    "name": "ipython",
    "version": 3
   },
   "file_extension": ".py",
   "mimetype": "text/x-python",
   "name": "python",
   "nbconvert_exporter": "python",
   "pygments_lexer": "ipython3",
   "version": "3.9.7"
  }
 },
 "nbformat": 4,
 "nbformat_minor": 5
}
